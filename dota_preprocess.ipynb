{
 "cells": [
  {
   "cell_type": "code",
   "execution_count": null,
   "id": "c7d82894",
   "metadata": {},
   "outputs": [],
   "source": [
    "import os\n",
    "import json\n",
    "import shutil"
   ]
  },
  {
   "cell_type": "code",
   "execution_count": null,
   "id": "aad1f4f6",
   "metadata": {},
   "outputs": [],
   "source": [
    "base_dir = '/home/ec2-user/SageMaker/data/DOTA'"
   ]
  },
  {
   "cell_type": "code",
   "execution_count": null,
   "id": "9e92c8e2",
   "metadata": {},
   "outputs": [],
   "source": [
    "!mkdir -p /home/ec2-user/SageMaker/data/DOTA-1.0/train/images/\n",
    "!mkdir -p /home/ec2-user/SageMaker/data/DOTA-1.0/train/labelTxt/\n",
    "!mkdir -p /home/ec2-user/SageMaker/data/DOTA-1.0/val/images/\n",
    "!mkdir -p /home/ec2-user/SageMaker/data/DOTA-1.0/val/labelTxt/\n",
    "!mkdir -p /home/ec2-user/SageMaker/data/DOTA-1.0/test/images/"
   ]
  },
  {
   "cell_type": "code",
   "execution_count": null,
   "id": "12cf937b",
   "metadata": {},
   "outputs": [],
   "source": [
    "train_label_dir = os.path.join(base_dir, 'train', 'labelTxt-v1.0/labelTxt')\n",
    "train_label_filenames = os.listdir(train_label_dir)\n",
    "print(len(train_label_filenames))\n",
    "cnt = 0\n",
    "for filename in train_label_filenames:\n",
    "    image_filename = os.path.join(base_dir, 'images', filename.replace('txt', 'png'))\n",
    "    if filename.endswith('txt') and os.path.exists(image_filename):\n",
    "        shutil.copy(os.path.join(train_label_dir, filename), '/home/ec2-user/SageMaker/data/DOTA-1.0/train/labelTxt/')\n",
    "        shutil.copy(image_filename, '/home/ec2-user/SageMaker/data/DOTA-1.0/train/images/')\n",
    "        cnt += 1\n",
    "print(cnt)"
   ]
  },
  {
   "cell_type": "code",
   "execution_count": null,
   "id": "c8185757",
   "metadata": {},
   "outputs": [],
   "source": [
    "val_label_dir = os.path.join(base_dir, 'val', 'labelTxt-v1.0/labelTxt')\n",
    "val_label_filenames = os.listdir(val_label_dir)\n",
    "print(len(val_label_filenames))\n",
    "cnt = 0\n",
    "for filename in val_label_filenames:\n",
    "    image_filename = os.path.join(base_dir, 'images', filename.replace('txt', 'png'))\n",
    "    if filename.endswith('txt') and os.path.exists(image_filename):\n",
    "        shutil.copy(os.path.join(val_label_dir, filename), '/home/ec2-user/SageMaker/data/DOTA-1.0/val/labelTxt/')\n",
    "        shutil.copy(image_filename, '/home/ec2-user/SageMaker/data/DOTA-1.0/val/images/')\n",
    "        cnt += 1\n",
    "print(cnt)"
   ]
  },
  {
   "cell_type": "code",
   "execution_count": null,
   "id": "f5314e14",
   "metadata": {},
   "outputs": [],
   "source": [
    "test_filenames = json.load(open(os.path.join(base_dir, 'test', 'test_info.json'), 'r'))\n",
    "print(len(test_filenames['images']))"
   ]
  },
  {
   "cell_type": "code",
   "execution_count": null,
   "id": "184920a9",
   "metadata": {},
   "outputs": [],
   "source": [
    "test_filenames['images'][:10]"
   ]
  },
  {
   "cell_type": "code",
   "execution_count": null,
   "id": "4772f518",
   "metadata": {},
   "outputs": [],
   "source": [
    "test_image_filenames = []\n",
    "for image in test_filenames['images']:\n",
    "    file_name = image['file_name']  #image['file_name'].split('_')[0]+'.png'\n",
    "    if '_' not in file_name and file_name not in test_image_filenames:\n",
    "        test_image_filenames.append(file_name)\n",
    "        image_filename = os.path.join(base_dir, 'images', file_name)\n",
    "        shutil.copy(image_filename, '/home/ec2-user/SageMaker/data/DOTA-1.0/test/images/')\n",
    "print(len(test_image_filenames))"
   ]
  },
  {
   "cell_type": "code",
   "execution_count": null,
   "id": "989203aa",
   "metadata": {},
   "outputs": [],
   "source": [
    "# !nvidia-docker run -it -v /home/ec2-user/SageMaker/data:/opt/ml/data jdet\n",
    "# Modify configs/preprocess/dota_preprocess_config.py\n",
    "# !python tools/preprocess.py --config-file configs/preprocess/dota_preprocess_config.py"
   ]
  },
  {
   "cell_type": "code",
   "execution_count": null,
   "id": "465472f0",
   "metadata": {},
   "outputs": [],
   "source": []
  }
 ],
 "metadata": {
  "kernelspec": {
   "display_name": "conda_python3",
   "language": "python",
   "name": "conda_python3"
  },
  "language_info": {
   "codemirror_mode": {
    "name": "ipython",
    "version": 3
   },
   "file_extension": ".py",
   "mimetype": "text/x-python",
   "name": "python",
   "nbconvert_exporter": "python",
   "pygments_lexer": "ipython3",
   "version": "3.6.13"
  }
 },
 "nbformat": 4,
 "nbformat_minor": 5
}
